{
 "cells": [
  {
   "cell_type": "code",
   "execution_count": 55,
   "id": "fe33b331-2a60-49d4-b31f-d4d3e07a97e7",
   "metadata": {},
   "outputs": [],
   "source": [
    "#=================================================================================================#\n",
    "# Modeling the data\n",
    "\n",
    "# Main Metric\n",
    "#.         Precision\n",
    "#.         Precision\n",
    "\n",
    "#=================================================================================================#\n",
    "import os\n",
    "import pandas as pd\n",
    "from pathlib import Path\n",
    "import tensorflow as tf\n",
    "import matplotlib.pyplot as plt\n",
    "import seaborn as sns\n",
    "from sklearn.model_selection import train_test_split\n",
    "from sklearn.linear_model import LogisticRegression\n",
    "from sklearn.metrics import f1_score,accuracy_score,precision_score,recall_score\n",
    "# from tensorflow.keras.callbacks import ReduceLROnPlateau\n",
    "\n",
    "# Set styling for better visualization\n",
    "plt.style.use('seaborn-v0_8')\n",
    "sns.set_palette(\"husl\")\n",
    "\n",
    "# Global configuration\n",
    "DATA_ROOT=Path(\"../data/interim/\").resolve()\n",
    "DATASET_DIR=Path.joinpath(DATA_ROOT,'creditcard.csv')\n"
   ]
  },
  {
   "cell_type": "code",
   "execution_count": null,
   "id": "4f876072-86f3-4e15-8f49-6b76ae0b1f9f",
   "metadata": {},
   "outputs": [],
   "source": []
  },
  {
   "cell_type": "code",
   "execution_count": 56,
   "id": "7eaf6370-68cf-430f-af68-0ee717b09b24",
   "metadata": {},
   "outputs": [
    {
     "name": "stdout",
     "output_type": "stream",
     "text": [
      "The shape of X:  (284807, 30)\n",
      "The shape of the target:  (284807, 30)\n"
     ]
    }
   ],
   "source": [
    "# Load the data\n",
    "def load_dataset(path_dir):\n",
    "    df=pd.read_csv(path_dir,sep=\",\")\n",
    "    return df\n",
    "\n",
    "df=load_dataset(DATASET_DIR)\n",
    "X=df.drop('Class',axis=1)\n",
    "y=df['Class']\n",
    "print(f\"The shape of X:  {X.shape}\")\n",
    "print(f\"The shape of the target:  {X.shape}\")"
   ]
  },
  {
   "cell_type": "code",
   "execution_count": 57,
   "id": "4c08b52f-3c03-4a65-8226-44b018644d54",
   "metadata": {},
   "outputs": [
    {
     "name": "stdout",
     "output_type": "stream",
     "text": [
      "(227845, 30)\n"
     ]
    }
   ],
   "source": [
    "X_train,X_test,y_train,y_test=train_test_split(X,y,test_size=.2,random_state=42)\n",
    "print(X_train.shape)"
   ]
  },
  {
   "cell_type": "code",
   "execution_count": 58,
   "id": "e00f694b-94d4-426a-877f-694a16f5410b",
   "metadata": {},
   "outputs": [
    {
     "data": {
      "text/plain": [
       "Class\n",
       "0    284315\n",
       "1       492\n",
       "Name: count, dtype: int64"
      ]
     },
     "execution_count": 58,
     "metadata": {},
     "output_type": "execute_result"
    }
   ],
   "source": [
    "# Process the target# \n",
    "y.value_counts()\n"
   ]
  },
  {
   "cell_type": "code",
   "execution_count": 59,
   "id": "ad38c10a-f1c3-4db5-b4eb-aacbd5b67eae",
   "metadata": {},
   "outputs": [
    {
     "name": "stdout",
     "output_type": "stream",
     "text": [
      "(284315, 31)\n",
      "(492, 31)\n"
     ]
    }
   ],
   "source": [
    "legit=df[df['Class']==0]\n",
    "fraud=df[df['Class']==1]\n",
    "print(legit.shape)\n",
    "print(fraud.shape)\n",
    "\n"
   ]
  },
  {
   "cell_type": "code",
   "execution_count": 70,
   "id": "27fea470-bd79-4ff1-9606-fda715ddf2ea",
   "metadata": {},
   "outputs": [],
   "source": [
    "# Create a simple model\n",
    "def create_simple_model(input_shape,initial_lr=0.001):\n",
    "    model=tf.keras.Sequential(\n",
    "        [\n",
    "            tf.keras.layers.Input(shape=(input_shape,1)),\n",
    "            tf.keras.layers.Dense(64,activation=\"relu\"),\n",
    "            tf.keras.layers.BatchNormalization(),\n",
    "            tf.keras.layers.Dropout(0.3),\n",
    "\n",
    "            tf.keras.layers.Dense(32,activation=\"relu\"),\n",
    "            tf.keras.layers.Dense(2,activation=\"softmax\")\n",
    "        ]\n",
    "        \n",
    "    )\n",
    "\n",
    "    #compile the model\n",
    "    model.compile(\n",
    "        optimizer= tf.keras.optimizers.Adam(learning_rate=initial_lr),\n",
    "        loss=\"mse\",\n",
    "        metrics=['mae']\n",
    "        \n",
    "    )\n",
    "    return  model\n",
    "# Create a simple model\n",
    "def create_fairly_medium_model(input_shape):\n",
    "    model=tf.keras.Sequential(\n",
    "        [\n",
    "            tf.keras.layers.Input(shape=(input_shape,1)),\n",
    "            tf.keras.layers.Dense(64,activation=\"relu\"),\n",
    "            tf.keras.layers.BatchNormalization(),\n",
    "            tf.keras.layers.Dropout(0.3),\n",
    "\n",
    "            tf.keras.layers.Dense(32,activation=\"relu\"),\n",
    "            tf.keras.layers.Dense(2,activation=\"softmax\")\n",
    "        ]\n",
    "        \n",
    "    )\n",
    "\n",
    "    #compile the model\n",
    "    model.compile(\n",
    "        optimizer= tf.keras.optimizers.Adam(learning_rate=initial_lr),\n",
    "        loss=\"sparse_categorical_crossentropy\",\n",
    "        metrics=['precision']\n",
    "        \n",
    "    )\n",
    "    return  model\n",
    "\n",
    "    # Create a simple model\n",
    "def create_advanced_model(input_shape):\n",
    "    model=tf.keras.Sequential(\n",
    "        [\n",
    "            tf.keras.layers.Input(shape=(input_shape,1)),\n",
    "            tf.keras.layers.Dense(128,activation=\"relu\"),\n",
    "            tf.keras.layers.BatchNormalization(),\n",
    "            tf.keras.layers.Dropout(0.3),\n",
    "\n",
    "            tf.keras.layers.Dense(64,activation=\"relu\"),\n",
    "            tf.keras.layers.BatchNormalization(),\n",
    "            tf.keras.layers.Dropout(0.3),\n",
    "\n",
    "            tf.keras.layers.Dense(64,activation=\"relu\"),\n",
    "            tf.keras.layers.BatchNormalization(),\n",
    "            tf.keras.layers.Dropout(0.3),\n",
    "\n",
    "            tf.keras.layers.Dense(32,activation=\"relu\"),\n",
    "            tf.keras.layers.Dense(32,activation=\"relu\"),\n",
    "            tf.keras.layers.Dropout(0.2),\n",
    "            tf.keras.layers.Dense(2,activation=\"softmax\")\n",
    "        ]\n",
    "        \n",
    "    )\n",
    "\n",
    "    #compile the model\n",
    "    model.compile(\n",
    "        optimizer= tf.keras.optimizers.Adam(learning_rate=initial_lr),\n",
    "        loss=\"mse\",\n",
    "        metrics=['mae']\n",
    "        \n",
    "    )\n",
    "    return  model\n",
    "\n",
    "# setting callbacks functions\n",
    "    # def set_callbacks():\n",
    "    #     callbacks=[\n",
    "            \n",
    "    #     ]\n",
    "    #     return callbacks"
   ]
  },
  {
   "cell_type": "code",
   "execution_count": 71,
   "id": "2c1d9763-1180-40de-b159-2f7ed4b29d0b",
   "metadata": {},
   "outputs": [],
   "source": [
    "# A function to train the model with adaptive lr.\n",
    "def train_with_lr_plateau():\n",
    "    # Load and preprocess data\n",
    "    # X_train, X_test, y_train, y_test, feature_names = load_and_preprocess_data()\n",
    "    \n",
    "    # Create model with higher initial learning rate\n",
    "    initial_lr = 0.01  # Start with higher learning rate\n",
    "    model = create_simple_model(X_train.shape[1], initial_lr)\n",
    "    \n",
    "    # Create checkpoint directory\n",
    "    checkpoint_dir = 'creditcard_checkpoints'\n",
    "    if not os.path.exists(checkpoint_dir):\n",
    "        os.makedirs(checkpoint_dir)\n",
    "    \n",
    "    # Define callbacks\n",
    "    lr_reducer = tf.keras.callbacks.ReduceLROnPlateau(\n",
    "        monitor='val_loss',\n",
    "        factor=0.5,  # Reduce LR by half when plateauing\n",
    "        patience=10,  # Wait for 10 epochs before reducing LR\n",
    "        min_delta=0.0001,\n",
    "        min_lr=1e-6,\n",
    "        verbose=1\n",
    "    )\n",
    "    \n",
    "    early_stopping = tf.keras.callbacks.EarlyStopping(\n",
    "        monitor='val_loss',\n",
    "        patience=25,  # Increased patience to allow LR reduction to take effect\n",
    "        min_delta=0.0001,\n",
    "        mode='min',\n",
    "        restore_best_weights=True,\n",
    "        verbose=1\n",
    "    )\n",
    "    \n",
    "    checkpoint = tf.keras.callbacks.ModelCheckpoint(\n",
    "        filepath=os.path.join(checkpoint_dir, 'best_model.keras'),\n",
    "        monitor='val_loss',\n",
    "        mode='min',\n",
    "        save_best_only=True,\n",
    "        verbose=1\n",
    "    )\n",
    "    \n",
    "    \n",
    "    # Train model\n",
    "    history = model.fit(\n",
    "        X_train, y_train,\n",
    "        epochs=200,\n",
    "        batch_size=64,\n",
    "        validation_split=0.2,\n",
    "        callbacks=[early_stopping, lr_reducer, checkpoint],\n",
    "        verbose=1\n",
    "    )\n",
    "    \n",
    "    \n",
    "    return model, history, X_test, y_test"
   ]
  },
  {
   "cell_type": "code",
   "execution_count": 72,
   "id": "6da46e21-9450-4eb1-8233-33971b8137f6",
   "metadata": {},
   "outputs": [],
   "source": [
    "def plot_training_history(history):\n",
    "    \"\"\"Plot training curves including learning rate changes\"\"\"\n",
    "    fig, (ax1, ax2, ax3) = plt.subplots(1, 3, figsize=(20, 5))\n",
    "    \n",
    "    # Plot loss\n",
    "    ax1.plot(history.history['loss'], label='Training Loss')\n",
    "    ax1.plot(history.history['val_loss'], label='Validation Loss')\n",
    "    ax1.set_title('Model Loss')\n",
    "    ax1.set_xlabel('Epoch')\n",
    "    ax1.set_ylabel('Loss (MSE)')\n",
    "    ax1.legend()\n",
    "    ax1.grid(True)\n",
    "    \n",
    "    # Plot MAE\n",
    "    ax2.plot(history.history['mae'], label='Training MAE')\n",
    "    ax2.plot(history.history['val_mae'], label='Validation MAE')\n",
    "    ax2.set_title('Model Mean Absolute Error')\n",
    "    ax2.set_xlabel('Epoch')\n",
    "    ax2.set_ylabel('MAE')\n",
    "    ax2.legend()\n",
    "    ax2.grid(True)\n",
    "    \n",
    "    # Plot Learning Rate\n",
    "    ax3.plot(history.history['learning_rate'], label='Learning Rate')\n",
    "    ax3.set_title('Learning Rate Over Time')\n",
    "    ax3.set_xlabel('Epoch')\n",
    "    ax3.set_ylabel('Learning Rate')\n",
    "    ax3.set_yscale('log')  # Use log scale for better visualization\n",
    "    ax3.legend()\n",
    "    ax3.grid(True)\n",
    "    \n",
    "    plt.tight_layout()\n",
    "    plt.show()"
   ]
  },
  {
   "cell_type": "code",
   "execution_count": 73,
   "id": "4c1dcfd4-21f0-4d91-814d-173e888ca3d6",
   "metadata": {},
   "outputs": [],
   "source": [
    "# Results Evaluation function\n",
    "def evaluate_results(model, X_test, y_test, history):\n",
    "    \"\"\"Evaluate and print model results\"\"\"\n",
    "    # Evaluate on test set\n",
    "    test_loss, test_mae = model.evaluate(X_test, y_test, verbose=0)\n",
    "    \n",
    "    # Get training statistics\n",
    "    best_epoch = np.argmin(history.history['val_loss']) + 1\n",
    "    total_epochs = len(history.history['loss'])\n",
    "    best_val_loss = min(history.history['val_loss'])\n",
    "    best_val_mae = min(history.history['val_mae'])\n",
    "    \n",
    "    # Get learning rate statistics\n",
    "    initial_lr = history.history['learning_rate'][0]\n",
    "    final_lr = history.history['learning_rate'][-1]\n",
    "    num_lr_drops = sum(1 for i in range(1, len(history.history['learning_rate']))\n",
    "                      if history.history['learning_rate'][i] < history.history['learning_rate'][i-1])\n",
    "    \n",
    "    print(\"\\nModel Performance Summary:\")\n",
    "    print(\"-\" * 50)\n",
    "    print(f\"Best validation loss achieved at epoch: {best_epoch}/{total_epochs}\")\n",
    "    print(f\"Best validation loss (MSE): {best_val_loss:.4f}\")\n",
    "    print(f\"Best validation MAE: {best_val_mae:.4f}\")\n",
    "    print(f\"Test loss (MSE): {test_loss:.4f}\")\n",
    "    print(f\"Test MAE: {test_mae:.4f}\")\n",
    "    print(\"\\nLearning Rate Summary:\")\n",
    "    print(f\"Initial learning rate: {initial_lr:.6f}\")\n",
    "    print(f\"Final learning rate: {final_lr:.6f}\")\n",
    "    print(f\"Number of learning rate reductions: {num_lr_drops}\")\n",
    "    print(\"-\" * 50)"
   ]
  },
  {
   "cell_type": "code",
   "execution_count": 75,
   "id": "f624fbcb-0440-4074-8335-5aa9fcc80f15",
   "metadata": {},
   "outputs": [
    {
     "name": "stdout",
     "output_type": "stream",
     "text": [
      "Epoch 1/200\n"
     ]
    },
    {
     "ename": "InvalidArgumentError",
     "evalue": "Graph execution error:\n\nDetected at node gradient_tape/compile_loss/mse/sub/BroadcastGradientArgs defined at (most recent call last):\n  File \"C:\\ProgramData\\miniforge3\\envs\\dll\\Lib\\runpy.py\", line 198, in _run_module_as_main\n\n  File \"C:\\ProgramData\\miniforge3\\envs\\dll\\Lib\\runpy.py\", line 88, in _run_code\n\n  File \"C:\\Users\\Admin\\AppData\\Roaming\\Python\\Python311\\site-packages\\ipykernel_launcher.py\", line 18, in <module>\n\n  File \"C:\\Users\\Admin\\AppData\\Roaming\\Python\\Python311\\site-packages\\traitlets\\config\\application.py\", line 1075, in launch_instance\n\n  File \"C:\\Users\\Admin\\AppData\\Roaming\\Python\\Python311\\site-packages\\ipykernel\\kernelapp.py\", line 739, in start\n\n  File \"C:\\Users\\Admin\\AppData\\Roaming\\Python\\Python311\\site-packages\\tornado\\platform\\asyncio.py\", line 205, in start\n\n  File \"C:\\ProgramData\\miniforge3\\envs\\dll\\Lib\\asyncio\\base_events.py\", line 608, in run_forever\n\n  File \"C:\\ProgramData\\miniforge3\\envs\\dll\\Lib\\asyncio\\base_events.py\", line 1936, in _run_once\n\n  File \"C:\\ProgramData\\miniforge3\\envs\\dll\\Lib\\asyncio\\events.py\", line 84, in _run\n\n  File \"C:\\Users\\Admin\\AppData\\Roaming\\Python\\Python311\\site-packages\\ipykernel\\kernelbase.py\", line 545, in dispatch_queue\n\n  File \"C:\\Users\\Admin\\AppData\\Roaming\\Python\\Python311\\site-packages\\ipykernel\\kernelbase.py\", line 534, in process_one\n\n  File \"C:\\Users\\Admin\\AppData\\Roaming\\Python\\Python311\\site-packages\\ipykernel\\kernelbase.py\", line 437, in dispatch_shell\n\n  File \"C:\\Users\\Admin\\AppData\\Roaming\\Python\\Python311\\site-packages\\ipykernel\\ipkernel.py\", line 362, in execute_request\n\n  File \"C:\\Users\\Admin\\AppData\\Roaming\\Python\\Python311\\site-packages\\ipykernel\\kernelbase.py\", line 778, in execute_request\n\n  File \"C:\\Users\\Admin\\AppData\\Roaming\\Python\\Python311\\site-packages\\ipykernel\\ipkernel.py\", line 449, in do_execute\n\n  File \"C:\\Users\\Admin\\AppData\\Roaming\\Python\\Python311\\site-packages\\ipykernel\\zmqshell.py\", line 549, in run_cell\n\n  File \"C:\\Users\\Admin\\AppData\\Roaming\\Python\\Python311\\site-packages\\IPython\\core\\interactiveshell.py\", line 3075, in run_cell\n\n  File \"C:\\Users\\Admin\\AppData\\Roaming\\Python\\Python311\\site-packages\\IPython\\core\\interactiveshell.py\", line 3130, in _run_cell\n\n  File \"C:\\Users\\Admin\\AppData\\Roaming\\Python\\Python311\\site-packages\\IPython\\core\\async_helpers.py\", line 128, in _pseudo_sync_runner\n\n  File \"C:\\Users\\Admin\\AppData\\Roaming\\Python\\Python311\\site-packages\\IPython\\core\\interactiveshell.py\", line 3334, in run_cell_async\n\n  File \"C:\\Users\\Admin\\AppData\\Roaming\\Python\\Python311\\site-packages\\IPython\\core\\interactiveshell.py\", line 3517, in run_ast_nodes\n\n  File \"C:\\Users\\Admin\\AppData\\Roaming\\Python\\Python311\\site-packages\\IPython\\core\\interactiveshell.py\", line 3577, in run_code\n\n  File \"C:\\Users\\Admin\\AppData\\Local\\Temp\\ipykernel_964\\1238931104.py\", line 5, in <module>\n\n  File \"C:\\Users\\Admin\\AppData\\Local\\Temp\\ipykernel_964\\1025873082.py\", line 44, in train_with_lr_plateau\n\n  File \"C:\\ProgramData\\miniforge3\\envs\\dll\\Lib\\site-packages\\keras\\src\\utils\\traceback_utils.py\", line 117, in error_handler\n\n  File \"C:\\ProgramData\\miniforge3\\envs\\dll\\Lib\\site-packages\\keras\\src\\backend\\tensorflow\\trainer.py\", line 320, in fit\n\n  File \"C:\\ProgramData\\miniforge3\\envs\\dll\\Lib\\site-packages\\keras\\src\\backend\\tensorflow\\trainer.py\", line 121, in one_step_on_iterator\n\n  File \"C:\\ProgramData\\miniforge3\\envs\\dll\\Lib\\site-packages\\keras\\src\\backend\\tensorflow\\trainer.py\", line 108, in one_step_on_data\n\n  File \"C:\\ProgramData\\miniforge3\\envs\\dll\\Lib\\site-packages\\keras\\src\\backend\\tensorflow\\trainer.py\", line 70, in train_step\n\nIncompatible shapes: [64,1] vs. [64,30,2]\n\t [[{{node gradient_tape/compile_loss/mse/sub/BroadcastGradientArgs}}]] [Op:__inference_one_step_on_iterator_5562]",
     "output_type": "error",
     "traceback": [
      "\u001b[1;31m---------------------------------------------------------------------------\u001b[0m",
      "\u001b[1;31mInvalidArgumentError\u001b[0m                      Traceback (most recent call last)",
      "Cell \u001b[1;32mIn[75], line 5\u001b[0m\n\u001b[0;32m      1\u001b[0m \u001b[38;5;66;03m# ================================================================= #\u001b[39;00m\n\u001b[0;32m      2\u001b[0m \u001b[38;5;66;03m#          Practice Part: Run the Code for credit card Project\u001b[39;00m\n\u001b[0;32m      3\u001b[0m \u001b[38;5;66;03m# ================================================================= #\u001b[39;00m\n\u001b[0;32m      4\u001b[0m \u001b[38;5;66;03m# 1. Train model\u001b[39;00m\n\u001b[1;32m----> 5\u001b[0m model, history, X_test, y_test \u001b[38;5;241m=\u001b[39m \u001b[43mtrain_with_lr_plateau\u001b[49m\u001b[43m(\u001b[49m\u001b[43m)\u001b[49m\n",
      "Cell \u001b[1;32mIn[71], line 44\u001b[0m, in \u001b[0;36mtrain_with_lr_plateau\u001b[1;34m()\u001b[0m\n\u001b[0;32m     34\u001b[0m checkpoint \u001b[38;5;241m=\u001b[39m tf\u001b[38;5;241m.\u001b[39mkeras\u001b[38;5;241m.\u001b[39mcallbacks\u001b[38;5;241m.\u001b[39mModelCheckpoint(\n\u001b[0;32m     35\u001b[0m     filepath\u001b[38;5;241m=\u001b[39mos\u001b[38;5;241m.\u001b[39mpath\u001b[38;5;241m.\u001b[39mjoin(checkpoint_dir, \u001b[38;5;124m'\u001b[39m\u001b[38;5;124mbest_model.keras\u001b[39m\u001b[38;5;124m'\u001b[39m),\n\u001b[0;32m     36\u001b[0m     monitor\u001b[38;5;241m=\u001b[39m\u001b[38;5;124m'\u001b[39m\u001b[38;5;124mval_loss\u001b[39m\u001b[38;5;124m'\u001b[39m,\n\u001b[1;32m   (...)\u001b[0m\n\u001b[0;32m     39\u001b[0m     verbose\u001b[38;5;241m=\u001b[39m\u001b[38;5;241m1\u001b[39m\n\u001b[0;32m     40\u001b[0m )\n\u001b[0;32m     43\u001b[0m \u001b[38;5;66;03m# Train model\u001b[39;00m\n\u001b[1;32m---> 44\u001b[0m history \u001b[38;5;241m=\u001b[39m \u001b[43mmodel\u001b[49m\u001b[38;5;241;43m.\u001b[39;49m\u001b[43mfit\u001b[49m\u001b[43m(\u001b[49m\n\u001b[0;32m     45\u001b[0m \u001b[43m    \u001b[49m\u001b[43mX_train\u001b[49m\u001b[43m,\u001b[49m\u001b[43m \u001b[49m\u001b[43my_train\u001b[49m\u001b[43m,\u001b[49m\n\u001b[0;32m     46\u001b[0m \u001b[43m    \u001b[49m\u001b[43mepochs\u001b[49m\u001b[38;5;241;43m=\u001b[39;49m\u001b[38;5;241;43m200\u001b[39;49m\u001b[43m,\u001b[49m\n\u001b[0;32m     47\u001b[0m \u001b[43m    \u001b[49m\u001b[43mbatch_size\u001b[49m\u001b[38;5;241;43m=\u001b[39;49m\u001b[38;5;241;43m64\u001b[39;49m\u001b[43m,\u001b[49m\n\u001b[0;32m     48\u001b[0m \u001b[43m    \u001b[49m\u001b[43mvalidation_split\u001b[49m\u001b[38;5;241;43m=\u001b[39;49m\u001b[38;5;241;43m0.2\u001b[39;49m\u001b[43m,\u001b[49m\n\u001b[0;32m     49\u001b[0m \u001b[43m    \u001b[49m\u001b[43mcallbacks\u001b[49m\u001b[38;5;241;43m=\u001b[39;49m\u001b[43m[\u001b[49m\u001b[43mearly_stopping\u001b[49m\u001b[43m,\u001b[49m\u001b[43m \u001b[49m\u001b[43mlr_reducer\u001b[49m\u001b[43m,\u001b[49m\u001b[43m \u001b[49m\u001b[43mcheckpoint\u001b[49m\u001b[43m]\u001b[49m\u001b[43m,\u001b[49m\n\u001b[0;32m     50\u001b[0m \u001b[43m    \u001b[49m\u001b[43mverbose\u001b[49m\u001b[38;5;241;43m=\u001b[39;49m\u001b[38;5;241;43m1\u001b[39;49m\n\u001b[0;32m     51\u001b[0m \u001b[43m\u001b[49m\u001b[43m)\u001b[49m\n\u001b[0;32m     54\u001b[0m \u001b[38;5;28;01mreturn\u001b[39;00m model, history, X_test, y_test\n",
      "File \u001b[1;32mC:\\ProgramData\\miniforge3\\envs\\dll\\Lib\\site-packages\\keras\\src\\utils\\traceback_utils.py:122\u001b[0m, in \u001b[0;36mfilter_traceback.<locals>.error_handler\u001b[1;34m(*args, **kwargs)\u001b[0m\n\u001b[0;32m    119\u001b[0m     filtered_tb \u001b[38;5;241m=\u001b[39m _process_traceback_frames(e\u001b[38;5;241m.\u001b[39m__traceback__)\n\u001b[0;32m    120\u001b[0m     \u001b[38;5;66;03m# To get the full stack trace, call:\u001b[39;00m\n\u001b[0;32m    121\u001b[0m     \u001b[38;5;66;03m# `keras.config.disable_traceback_filtering()`\u001b[39;00m\n\u001b[1;32m--> 122\u001b[0m     \u001b[38;5;28;01mraise\u001b[39;00m e\u001b[38;5;241m.\u001b[39mwith_traceback(filtered_tb) \u001b[38;5;28;01mfrom\u001b[39;00m \u001b[38;5;28;01mNone\u001b[39;00m\n\u001b[0;32m    123\u001b[0m \u001b[38;5;28;01mfinally\u001b[39;00m:\n\u001b[0;32m    124\u001b[0m     \u001b[38;5;28;01mdel\u001b[39;00m filtered_tb\n",
      "File \u001b[1;32mC:\\ProgramData\\miniforge3\\envs\\dll\\Lib\\site-packages\\tensorflow\\python\\eager\\execute.py:53\u001b[0m, in \u001b[0;36mquick_execute\u001b[1;34m(op_name, num_outputs, inputs, attrs, ctx, name)\u001b[0m\n\u001b[0;32m     51\u001b[0m \u001b[38;5;28;01mtry\u001b[39;00m:\n\u001b[0;32m     52\u001b[0m   ctx\u001b[38;5;241m.\u001b[39mensure_initialized()\n\u001b[1;32m---> 53\u001b[0m   tensors \u001b[38;5;241m=\u001b[39m pywrap_tfe\u001b[38;5;241m.\u001b[39mTFE_Py_Execute(ctx\u001b[38;5;241m.\u001b[39m_handle, device_name, op_name,\n\u001b[0;32m     54\u001b[0m                                       inputs, attrs, num_outputs)\n\u001b[0;32m     55\u001b[0m \u001b[38;5;28;01mexcept\u001b[39;00m core\u001b[38;5;241m.\u001b[39m_NotOkStatusException \u001b[38;5;28;01mas\u001b[39;00m e:\n\u001b[0;32m     56\u001b[0m   \u001b[38;5;28;01mif\u001b[39;00m name \u001b[38;5;129;01mis\u001b[39;00m \u001b[38;5;129;01mnot\u001b[39;00m \u001b[38;5;28;01mNone\u001b[39;00m:\n",
      "\u001b[1;31mInvalidArgumentError\u001b[0m: Graph execution error:\n\nDetected at node gradient_tape/compile_loss/mse/sub/BroadcastGradientArgs defined at (most recent call last):\n  File \"C:\\ProgramData\\miniforge3\\envs\\dll\\Lib\\runpy.py\", line 198, in _run_module_as_main\n\n  File \"C:\\ProgramData\\miniforge3\\envs\\dll\\Lib\\runpy.py\", line 88, in _run_code\n\n  File \"C:\\Users\\Admin\\AppData\\Roaming\\Python\\Python311\\site-packages\\ipykernel_launcher.py\", line 18, in <module>\n\n  File \"C:\\Users\\Admin\\AppData\\Roaming\\Python\\Python311\\site-packages\\traitlets\\config\\application.py\", line 1075, in launch_instance\n\n  File \"C:\\Users\\Admin\\AppData\\Roaming\\Python\\Python311\\site-packages\\ipykernel\\kernelapp.py\", line 739, in start\n\n  File \"C:\\Users\\Admin\\AppData\\Roaming\\Python\\Python311\\site-packages\\tornado\\platform\\asyncio.py\", line 205, in start\n\n  File \"C:\\ProgramData\\miniforge3\\envs\\dll\\Lib\\asyncio\\base_events.py\", line 608, in run_forever\n\n  File \"C:\\ProgramData\\miniforge3\\envs\\dll\\Lib\\asyncio\\base_events.py\", line 1936, in _run_once\n\n  File \"C:\\ProgramData\\miniforge3\\envs\\dll\\Lib\\asyncio\\events.py\", line 84, in _run\n\n  File \"C:\\Users\\Admin\\AppData\\Roaming\\Python\\Python311\\site-packages\\ipykernel\\kernelbase.py\", line 545, in dispatch_queue\n\n  File \"C:\\Users\\Admin\\AppData\\Roaming\\Python\\Python311\\site-packages\\ipykernel\\kernelbase.py\", line 534, in process_one\n\n  File \"C:\\Users\\Admin\\AppData\\Roaming\\Python\\Python311\\site-packages\\ipykernel\\kernelbase.py\", line 437, in dispatch_shell\n\n  File \"C:\\Users\\Admin\\AppData\\Roaming\\Python\\Python311\\site-packages\\ipykernel\\ipkernel.py\", line 362, in execute_request\n\n  File \"C:\\Users\\Admin\\AppData\\Roaming\\Python\\Python311\\site-packages\\ipykernel\\kernelbase.py\", line 778, in execute_request\n\n  File \"C:\\Users\\Admin\\AppData\\Roaming\\Python\\Python311\\site-packages\\ipykernel\\ipkernel.py\", line 449, in do_execute\n\n  File \"C:\\Users\\Admin\\AppData\\Roaming\\Python\\Python311\\site-packages\\ipykernel\\zmqshell.py\", line 549, in run_cell\n\n  File \"C:\\Users\\Admin\\AppData\\Roaming\\Python\\Python311\\site-packages\\IPython\\core\\interactiveshell.py\", line 3075, in run_cell\n\n  File \"C:\\Users\\Admin\\AppData\\Roaming\\Python\\Python311\\site-packages\\IPython\\core\\interactiveshell.py\", line 3130, in _run_cell\n\n  File \"C:\\Users\\Admin\\AppData\\Roaming\\Python\\Python311\\site-packages\\IPython\\core\\async_helpers.py\", line 128, in _pseudo_sync_runner\n\n  File \"C:\\Users\\Admin\\AppData\\Roaming\\Python\\Python311\\site-packages\\IPython\\core\\interactiveshell.py\", line 3334, in run_cell_async\n\n  File \"C:\\Users\\Admin\\AppData\\Roaming\\Python\\Python311\\site-packages\\IPython\\core\\interactiveshell.py\", line 3517, in run_ast_nodes\n\n  File \"C:\\Users\\Admin\\AppData\\Roaming\\Python\\Python311\\site-packages\\IPython\\core\\interactiveshell.py\", line 3577, in run_code\n\n  File \"C:\\Users\\Admin\\AppData\\Local\\Temp\\ipykernel_964\\1238931104.py\", line 5, in <module>\n\n  File \"C:\\Users\\Admin\\AppData\\Local\\Temp\\ipykernel_964\\1025873082.py\", line 44, in train_with_lr_plateau\n\n  File \"C:\\ProgramData\\miniforge3\\envs\\dll\\Lib\\site-packages\\keras\\src\\utils\\traceback_utils.py\", line 117, in error_handler\n\n  File \"C:\\ProgramData\\miniforge3\\envs\\dll\\Lib\\site-packages\\keras\\src\\backend\\tensorflow\\trainer.py\", line 320, in fit\n\n  File \"C:\\ProgramData\\miniforge3\\envs\\dll\\Lib\\site-packages\\keras\\src\\backend\\tensorflow\\trainer.py\", line 121, in one_step_on_iterator\n\n  File \"C:\\ProgramData\\miniforge3\\envs\\dll\\Lib\\site-packages\\keras\\src\\backend\\tensorflow\\trainer.py\", line 108, in one_step_on_data\n\n  File \"C:\\ProgramData\\miniforge3\\envs\\dll\\Lib\\site-packages\\keras\\src\\backend\\tensorflow\\trainer.py\", line 70, in train_step\n\nIncompatible shapes: [64,1] vs. [64,30,2]\n\t [[{{node gradient_tape/compile_loss/mse/sub/BroadcastGradientArgs}}]] [Op:__inference_one_step_on_iterator_5562]"
     ]
    }
   ],
   "source": [
    "# ================================================================= #\n",
    "#          Practice Part: Run the Code for credit card Project\n",
    "# ================================================================= #\n",
    "# 1. Train model\n",
    "model, history, X_test, y_test = train_with_lr_plateau()"
   ]
  },
  {
   "cell_type": "code",
   "execution_count": null,
   "id": "0852e6c3-f4d6-4960-adab-3de5cf46b9b1",
   "metadata": {},
   "outputs": [],
   "source": []
  }
 ],
 "metadata": {
  "kernelspec": {
   "display_name": "dll",
   "language": "python",
   "name": "dll"
  },
  "language_info": {
   "codemirror_mode": {
    "name": "ipython",
    "version": 3
   },
   "file_extension": ".py",
   "mimetype": "text/x-python",
   "name": "python",
   "nbconvert_exporter": "python",
   "pygments_lexer": "ipython3",
   "version": "3.11.10"
  }
 },
 "nbformat": 4,
 "nbformat_minor": 5
}
