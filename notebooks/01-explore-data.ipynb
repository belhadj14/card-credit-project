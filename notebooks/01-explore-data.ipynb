{
 "cells": [
  {
   "cell_type": "code",
   "execution_count": null,
   "id": "c79bc2e8-d816-4cb5-82d2-8703a5fae5a8",
   "metadata": {},
   "outputs": [],
   "source": [
    "import os\n",
    "import sys\n",
    "import shutil\n",
    "import time\n",
    "\n",
    "import pandas  as pd\n",
    "from pathlib import Path\n",
    "\n",
    "import requests\n",
    "import io\n",
    "import zipfile"
   ]
  },
  {
   "cell_type": "code",
   "execution_count": null,
   "id": "9f02d46c-a6a8-4218-b81d-d4b6fd7a8489",
   "metadata": {},
   "outputs": [],
   "source": [
    "def download_zip_data(url,save_path='data'):\n",
    "\n",
    "    if not os.path.exists(save_path):\n",
    "        os.makedirs(save_path)\n",
    "\n",
    "    print(\"Download the data...\")\n",
    "    response=requests.get(url,timeout=10)\n",
    "    response.raise_for_status()\n",
    "\n",
    "    if response.status_code==200:\n",
    "        with zipfile.ZipFile(io.BytesIO(response.content)) as zip_file:\n",
    "            zip_file.extractall(save_path)\n",
    "        print(f\"The dataset downloaded successfuly in {save_path}\")\n",
    "        \n",
    "    else:\n",
    "        print(f\"The data could not be downloaded\")\n",
    "            \n",
    "        "
   ]
  },
  {
   "cell_type": "code",
   "execution_count": null,
   "id": "cc0087e8-8764-418f-ad35-9bf7ace88e2d",
   "metadata": {},
   "outputs": [],
   "source": [
    "# test\n",
    "save_path=\"../data/raw/\"\n",
    "download_zip_data(url=\"https://www.kaggle.com/api/v1/datasets/download/mlg-ulb/creditcardfraud\",save_path=save_path)"
   ]
  },
  {
   "cell_type": "code",
   "execution_count": null,
   "id": "4c9c35fa-b330-4bb7-b92e-5e31692dde4a",
   "metadata": {},
   "outputs": [],
   "source": [
    "data_path=\"../data/raw/creditcard.csv/\""
   ]
  },
  {
   "cell_type": "code",
   "execution_count": null,
   "id": "46b16afe-0555-414d-b156-7f79b95871f5",
   "metadata": {},
   "outputs": [],
   "source": [
    "os.listdir(data_path)"
   ]
  },
  {
   "cell_type": "code",
   "execution_count": null,
   "id": "0ea952e8-4c5e-4e5c-af5e-51f70367c191",
   "metadata": {},
   "outputs": [],
   "source": [
    "dataset_dir=os.path.join(data_path,'creditcard.csv')"
   ]
  },
  {
   "cell_type": "code",
   "execution_count": null,
   "id": "a580526e-9bdb-4f84-8118-d2b0a7ee1cf8",
   "metadata": {},
   "outputs": [],
   "source": [
    "#Read the data\n",
    "def load_dataset(path_dir):\n",
    "    df=pd.read_csv(path_dir,sep=\",\")\n",
    "    return df"
   ]
  },
  {
   "cell_type": "code",
   "execution_count": null,
   "id": "87780573-349e-40e6-a2ea-664589f17437",
   "metadata": {},
   "outputs": [],
   "source": [
    "#Explore the data\n",
    "def explore_data(data):\n",
    "    \"\"\"\n",
    "    Display basic informations about the dataset\n",
    "    \"\"\"\n",
    "    print(\"*\"*72)\n",
    "    print(\"Dataset overview\".center(72))\n",
    "    print(\"*\"*72)\n",
    "\n",
    "    print(f\"Dataset Shape: {data.shape}\")\n",
    "    print(\"*\"*72)\n",
    "    print(f\"Check the first few rows\")\n",
    "\n",
    "    print(\"*\"*72)\n",
    "    print(data.head())\n",
    "\n",
    "    print(f\"Basic Statiscal Summary:\\n{data.describe()}\")"
   ]
  },
  {
   "cell_type": "code",
   "execution_count": null,
   "id": "077ad6de-4284-4466-8099-f4da419f562c",
   "metadata": {},
   "outputs": [],
   "source": [
    "save_dir=\"../data/interim/creditcard.csv\"\n",
    "load_dataset(dataset_dir).to_csv(save_dir,index=False)"
   ]
  },
  {
   "cell_type": "code",
   "execution_count": null,
   "id": "854d421b-4c3f-4c8c-9c66-8219508a4a38",
   "metadata": {},
   "outputs": [],
   "source": [
    "os.listdir(\"../data/interim/\")"
   ]
  }
 ],
 "metadata": {
  "kernelspec": {
   "display_name": "dll",
   "language": "python",
   "name": "myenv"
  },
  "language_info": {
   "codemirror_mode": {
    "name": "ipython",
    "version": 3
   },
   "file_extension": ".py",
   "mimetype": "text/x-python",
   "name": "python",
   "nbconvert_exporter": "python",
   "pygments_lexer": "ipython3",
   "version": "3.11.10"
  }
 },
 "nbformat": 4,
 "nbformat_minor": 5
}
