{
 "cells": [
  {
   "cell_type": "code",
   "execution_count": null,
   "id": "6be84fbe-5c4b-4e00-aa00-bb093b7f64bd",
   "metadata": {},
   "outputs": [],
   "source": [
    "#========================================================================================#\n",
    "#        Process Bank Marketing Dataset\n",
    "#        Author: A Hamid ,Berrabeh,Belhadj\n",
    "#        Date :28-01-2025\n",
    "#========================================================================================#"
   ]
  },
  {
   "cell_type": "code",
   "execution_count": null,
   "id": "28d44d4d-1e04-4bb7-a5d5-d46a82bd563d",
   "metadata": {},
   "outputs": [],
   "source": [
    "# Env setup\n",
    "import os\n",
    "import sys\n",
    "import shutil\n",
    "import time\n",
    "from pathlib import Path\n",
    "from typing import List\n",
    "\n",
    "import numpy as np\n",
    "import pandas as pd\n",
    "import matplotlib.pyplot as plt\n",
    "import seaborn as sns\n",
    "\n",
    "import tensorflow as tf\n",
    "from sklearn.preprocessing import OneHotEncoder,LabelEncoder,MinMaxScaler\n",
    "\n",
    "# Global configuration\n",
    "DATA_ROOT=Path(\"../data/interim/\").resolve()\n",
    "DATASET_DIR=Path.joinpath(DATA_ROOT,'creditcard.csv')\n"
   ]
  },
  {
   "cell_type": "code",
   "execution_count": null,
   "id": "0619a7f4-a5ce-427c-93c3-86465e2a3f04",
   "metadata": {},
   "outputs": [],
   "source": []
  }
 ],
 "metadata": {
  "kernelspec": {
   "display_name": "Python 3 (ipykernel)",
   "language": "python",
   "name": "python3"
  },
  "language_info": {
   "codemirror_mode": {
    "name": "ipython",
    "version": 3
   },
   "file_extension": ".py",
   "mimetype": "text/x-python",
   "name": "python",
   "nbconvert_exporter": "python",
   "pygments_lexer": "ipython3",
   "version": "3.12.5"
  }
 },
 "nbformat": 4,
 "nbformat_minor": 5
}
